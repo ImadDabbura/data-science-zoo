{
 "cells": [
  {
   "cell_type": "markdown",
   "metadata": {},
   "source": [
    "# Iterators"
   ]
  },
  {
   "cell_type": "markdown",
   "metadata": {},
   "source": [
    "## Topics\n",
    "\n",
    "- Stream larger-than-memory data through a pipeline\n",
    "- Composable thanks to the iterator protocol"
   ]
  },
  {
   "cell_type": "markdown",
   "metadata": {},
   "source": [
    "My favorite \"feature\" of pandas is that it's written in Python.\n",
    "Python has great language-level features for handling streams of data\n",
    "that may not fit in memory.\n",
    "This can be a useful pre-processing step to reading the data into a DataFrame or\n",
    "NumPy array.\n",
    "You can get quite far using just the builtin data structures as David Beazley proves in [this PyData keynote](https://www.youtube.com/watch?v=lyDLAutA88s)."
   ]
  },
  {
   "cell_type": "code",
   "execution_count": null,
   "metadata": {},
   "outputs": [],
   "source": [
    "import os\n",
    "import gzip\n",
    "from itertools import islice, takewhile\n",
    "\n",
    "import numpy as np\n",
    "import pandas as pd\n",
    "import seaborn as sns\n",
    "import dask.dataframe as dd\n",
    "from toolz import partition_all, partitionby\n",
    "import matplotlib.pyplot as plt"
   ]
  },
  {
   "cell_type": "code",
   "execution_count": null,
   "metadata": {},
   "outputs": [],
   "source": [
    "%matplotlib inline"
   ]
  },
  {
   "cell_type": "code",
   "execution_count": null,
   "metadata": {},
   "outputs": [],
   "source": [
    "pd.options.display.max_rows = 10\n",
    "sns.set(context='talk')\n",
    "plt.style.use(\"default\")"
   ]
  },
  {
   "cell_type": "markdown",
   "metadata": {},
   "source": [
    "## Beer Reviews Dataset\n",
    "\n",
    "- A review is a list of lines\n",
    "- Each review line is formated like `meta/field: value`\n",
    "- Reviews are separated by blank lines (i.e. the line is just `'\\n'`)\n"
   ]
  },
  {
   "cell_type": "markdown",
   "metadata": {},
   "source": [
    "Stanford has a [dataset on beer reviews](https://snap.stanford.edu/data/web-BeerAdvocate.html). The raw file is too large for me to include, but I split off a couple subsets for us to work with.\n",
    "\n",
    "Pandas can't read this file natively, but we have Python!\n",
    "We'll use Python to parse the raw file and tranform it into a tabular format."
   ]
  },
  {
   "cell_type": "code",
   "execution_count": null,
   "metadata": {},
   "outputs": [],
   "source": [
    "with gzip.open(\"data/beer-raw-small.txt.gz\", \"r\") as f:\n",
    "    print(f.read(1500).decode('utf-8'))"
   ]
  },
  {
   "cell_type": "markdown",
   "metadata": {},
   "source": [
    "The full compressed raw dataset is about 500MB, so reading it all into memory might not be pleasent (we're working with a small subset that would fit in memory, but pretend it didn't).\n",
    "Fortunately, Python's iterator protocol and generators make dealing with large streams of data pleasent."
   ]
  },
  {
   "cell_type": "markdown",
   "metadata": {},
   "source": [
    "## Developing a solution\n",
    "\n",
    "Let's build a solution together. I'll provide some guidance as we go along."
   ]
  },
  {
   "cell_type": "code",
   "execution_count": null,
   "metadata": {},
   "outputs": [],
   "source": [
    "# Get a handle to the data\n",
    "f = gzip.open(\"data/beer-raw-small.txt.gz\", \"rt\")"
   ]
  },
  {
   "cell_type": "markdown",
   "metadata": {},
   "source": [
    "Usually you'd use a context manager like `with gzip.open(...) as f`, but for debugging, it's OK to do it this way."
   ]
  },
  {
   "cell_type": "markdown",
   "metadata": {},
   "source": [
    "## Parsing Tasks\n",
    "\n",
    "1. split the raw text stream into individual reviews\n",
    "2. transform each individual review into a data container\n",
    "3. combine a chunk of transformed individual reviews into a collection\n",
    "4. store the chunk to disk"
   ]
  },
  {
   "cell_type": "markdown",
   "metadata": {},
   "source": [
    "Let's grab the first review using [`takewhile`](https://docs.python.org/3/library/itertools.html#itertools.takewhile) till the first `'\\n'`.\n",
    "`takewhile` scans a stream, returning each item (line) until it hits the sentinal value it's looking for."
   ]
  },
  {
   "cell_type": "code",
   "execution_count": null,
   "metadata": {},
   "outputs": [],
   "source": [
    "from itertools import takewhile"
   ]
  },
  {
   "cell_type": "code",
   "execution_count": null,
   "metadata": {},
   "outputs": [],
   "source": [
    "f.seek(0);  # make the cell idempotent\n",
    "first = list(takewhile(lambda x: x != '\\n', f))\n",
    "first"
   ]
  },
  {
   "cell_type": "markdown",
   "metadata": {},
   "source": [
    "<div class=\"alert alert-success\" data-title=\"Format Review\">\n",
    "  <h1><i class=\"fa fa-tasks\"  aria-hidden=\"true\"></i> Exercise: Format Review</h1>\n",
    "</div>\n",
    "<p>Write a function `format_review` that converts an item like `first` into a dict</p>"
   ]
  },
  {
   "cell_type": "markdown",
   "metadata": {},
   "source": [
    "It will have one entry per line, where the are the stuff to the left of the colon and the values are the stuff to the right.\n",
    "For example, the first line would be\n",
    "\n",
    "`'beer/name: Sausa Weizen\\n',` => `'beer/name': 'Sausa Weizen'`\n",
    "\n",
    "Make sure to clean up the line endings too.\n",
    "\n",
    "- Hint: Check out the [python string methods](https://docs.python.org/3/library/stdtypes.html#string-methods)"
   ]
  },
  {
   "cell_type": "markdown",
   "metadata": {},
   "source": [
    "You can check your function against `expected` by evaluating the next cell.\n",
    "If you get a failure, adjust your `format_review` until it passes."
   ]
  },
  {
   "cell_type": "code",
   "execution_count": null,
   "metadata": {},
   "outputs": [],
   "source": [
    "import unittest\n",
    "from typing import List, Dict\n",
    "\n",
    "f.seek(0);  # make the cell idempotent\n",
    "review = list(takewhile(lambda x: x != '\\n', f))\n",
    "\n",
    "\n",
    "def format_review(review: List[str]) -> Dict[str, str]:\n",
    "    \"\"\"Your code goes below\"\"\"\n",
    "    \n",
    "\n",
    "class TestFormat(unittest.TestCase):\n",
    "    maxDiff = None\n",
    "\n",
    "    def test_format_review(self):\n",
    "        result = format_review(review)\n",
    "        expected = {\n",
    "            'beer/ABV': '5.00',\n",
    "            'beer/beerId': '47986',\n",
    "            'beer/brewerId': '10325',\n",
    "            'beer/name': 'Sausa Weizen',\n",
    "            'beer/style': 'Hefeweizen',\n",
    "            'review/appearance': '2.5',\n",
    "            'review/aroma': '2',\n",
    "            'review/overall': '1.5',\n",
    "            'review/palate': '1.5',\n",
    "            'review/profileName': 'stcules',\n",
    "            'review/taste': '1.5',\n",
    "            'review/text': 'A lot of foam. But a lot.\\tIn the smell some banana, and then lactic and tart. Not a good start.\\tQuite dark orange in color, with a lively carbonation (now visible, under the foam).\\tAgain tending to lactic sourness.\\tSame for the taste. With some yeast and banana.\\t\\t',\n",
    "            'review/time': '1234817823'\n",
    "        }\n",
    "        self.assertEqual(result, expected)\n",
    "\n",
    "suite = unittest.TestLoader().loadTestsFromModule(TestFormat())\n",
    "unittest.TextTestRunner().run(suite)"
   ]
  },
  {
   "cell_type": "code",
   "execution_count": null,
   "metadata": {},
   "outputs": [],
   "source": [
    "%load solutions/groupby_format_review.py"
   ]
  },
  {
   "cell_type": "markdown",
   "metadata": {},
   "source": [
    "Notice that optional argument to split, which controls the number of splits made; If a review text had contained a literal `': '`, we'd be in trouble since it'd get split again.\n",
    "\n",
    "Make sure you executed the above solution cell twice (first to load, second to execute) as we'll be using that `format_review` function down below"
   ]
  },
  {
   "cell_type": "markdown",
   "metadata": {},
   "source": [
    "## To a DataFrame\n",
    "\n",
    "Assuming we've processed many reviews into a list, we'll then build up a DataFrame."
   ]
  },
  {
   "cell_type": "code",
   "execution_count": null,
   "metadata": {},
   "outputs": [],
   "source": [
    "r = [format_review(first)]  # imagine a list of many reviews\n",
    "\n",
    "col_names = {\n",
    "    'beer/ABV': 'abv',\n",
    "    'beer/beerId': 'beer_id',\n",
    "    'beer/brewerId': 'brewer_id',\n",
    "    'beer/name': 'beer_name',\n",
    "    'beer/style': 'beer_style',\n",
    "    'review/appearance': 'review_appearance',\n",
    "    'review/aroma': 'review_aroma',\n",
    "    'review/overall': 'review_overall',\n",
    "    'review/palate': 'review_palate',\n",
    "    'review/profileName': 'profile_name',\n",
    "    'review/taste': 'review_taste',\n",
    "    'review/text': 'text',\n",
    "    'review/time': 'time'\n",
    "}\n",
    "df = pd.DataFrame(r)\n",
    "numeric = ['abv', 'review_appearance', 'review_aroma',\n",
    "           'review_overall', 'review_palate', 'review_taste']\n",
    "df = (df.rename(columns=col_names)\n",
    "        .replace('', np.nan))\n",
    "df[numeric] = df[numeric].astype(float)\n",
    "df['time'] = pd.to_datetime(df.time.astype(int), unit='s')\n",
    "df"
   ]
  },
  {
   "cell_type": "markdown",
   "metadata": {},
   "source": [
    "Again, writing that as a function:"
   ]
  },
  {
   "cell_type": "code",
   "execution_count": null,
   "metadata": {},
   "outputs": [],
   "source": [
    "def as_dataframe(reviews):\n",
    "    col_names = {\n",
    "        'beer/ABV': 'abv',\n",
    "        'beer/beerId': 'beer_id',\n",
    "        'beer/brewerId': 'brewer_id',\n",
    "        'beer/name': 'beer_name',\n",
    "        'beer/style': 'beer_style',\n",
    "        'review/appearance': 'review_appearance',\n",
    "        'review/aroma': 'review_aroma',\n",
    "        'review/overall': 'review_overall',\n",
    "        'review/palate': 'review_palate',\n",
    "        'review/profileName': 'profile_name',\n",
    "        'review/taste': 'review_taste',\n",
    "        'review/text': 'text',\n",
    "        'review/time': 'time'\n",
    "    }\n",
    "    df = pd.DataFrame(list(reviews))\n",
    "    numeric = ['abv', 'review_appearance', 'review_aroma',\n",
    "               'review_overall', 'review_palate', 'review_taste']\n",
    "    df = (df.rename(columns=col_names)\n",
    "            .replace('', np.nan))\n",
    "    df[numeric] = df[numeric].astype(float)\n",
    "    df['time'] = pd.to_datetime(df.time.astype(int), unit='s')\n",
    "    return df"
   ]
  },
  {
   "cell_type": "markdown",
   "metadata": {},
   "source": [
    "## Full pipeline\n",
    "\n",
    "1. `file -> review_lines : List[str]`\n",
    "2. `review_lines -> reviews : Dict[str, str]`\n",
    "3. `reviews -> DataFrames`\n",
    "4. `DataFrames -> CSV`"
   ]
  },
  {
   "cell_type": "markdown",
   "metadata": {},
   "source": [
    "The full pipeline would look something like:"
   ]
  },
  {
   "cell_type": "code",
   "execution_count": null,
   "metadata": {},
   "outputs": [],
   "source": [
    "from toolz import partition_all, partitionby\n",
    "\n",
    "\n",
    "BATCH_SIZE = 100  # Number of reviews to process per chunk\n",
    "                  # Intentionally small for demostration    \n",
    "\n",
    "\n",
    "with gzip.open(\"data/beer-raw-small.txt.gz\", \"rt\") as f:\n",
    "\n",
    "    # Filter out a null byte at the end\n",
    "    lines = (x for x in f if not x.startswith('\\x00'))\n",
    "    \n",
    "    review_lines_and_newlines = partitionby(lambda x: x == '\\n', lines)\n",
    "    # that goes [review, \\n, review, \\n, ...]\n",
    "    # so filter out the newlines\n",
    "    review_lines = filter(lambda x: x != ('\\n',), review_lines_and_newlines)\n",
    "    \n",
    "    # generator expression to go from List[str] -> Dict[str, str]\n",
    "    reviews = (format_review(x) for x in review_lines)\n",
    "    \n",
    "    # `reviews` yields one dict per review.\n",
    "    # Won't fit in memory, so do `BATCH_SIZE` per chunk\n",
    "    chunks = partition_all(BATCH_SIZE, reviews)\n",
    "    dfs = (as_dataframe(chunk) for chunk in chunks)\n",
    "    os.makedirs(\"data/beer/\", exist_ok=True)\n",
    "\n",
    "    # the first time we read from disk\n",
    "    for i, df in enumerate(dfs):\n",
    "        df.to_csv(\"data/beer/chunk_%s.csv.gz\" % i, index=False,\n",
    "                  compression=\"gzip\")\n",
    "        print(i, end='\\r')"
   ]
  },
  {
   "cell_type": "markdown",
   "metadata": {},
   "source": [
    "\n",
    "This runs comfortably in memory. At any given time, we only have `BATCH_SIZE` reviews in memory."
   ]
  }
 ],
 "metadata": {
  "hide_input": false,
  "kernelspec": {
   "display_name": "Python 3",
   "language": "python",
   "name": "python3"
  },
  "language_info": {
   "codemirror_mode": {
    "name": "ipython",
    "version": 3
   },
   "file_extension": ".py",
   "mimetype": "text/x-python",
   "name": "python",
   "nbconvert_exporter": "python",
   "pygments_lexer": "ipython3",
   "version": "3.7.2"
  },
  "toc": {
   "base_numbering": 1,
   "nav_menu": {},
   "number_sections": true,
   "sideBar": true,
   "skip_h1_title": false,
   "title_cell": "Table of Contents",
   "title_sidebar": "Contents",
   "toc_cell": false,
   "toc_position": {},
   "toc_section_display": true,
   "toc_window_display": false
  }
 },
 "nbformat": 4,
 "nbformat_minor": 1
}
